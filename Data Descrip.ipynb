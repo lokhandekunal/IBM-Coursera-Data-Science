{
 "cells": [
  {
   "cell_type": "markdown",
   "metadata": {},
   "source": [
    "# Data description\n",
    "\n",
    "\n",
    "The data about number and location of Thai food restaurants in each Boroughs of\n",
    "NYC will be collected via Foursquare platform. The data science’s tools will be\n",
    "utilized to gain insights as follow:\n",
    "1. How many Thai restaurants in each Borough\n",
    "2. How dense of Thai restaurants in each Borough\n",
    "The insights will be use for estimating the opportunity and risk of opening a new\n",
    "Thai food restaurant for entrepreneur that is considering to enter the industry"
   ]
  },
  {
   "cell_type": "code",
   "execution_count": null,
   "metadata": {},
   "outputs": [],
   "source": []
  }
 ],
 "metadata": {
  "kernelspec": {
   "display_name": "Python 3",
   "language": "python",
   "name": "python3"
  },
  "language_info": {
   "codemirror_mode": {
    "name": "ipython",
    "version": 3
   },
   "file_extension": ".py",
   "mimetype": "text/x-python",
   "name": "python",
   "nbconvert_exporter": "python",
   "pygments_lexer": "ipython3",
   "version": "3.6.8"
  }
 },
 "nbformat": 4,
 "nbformat_minor": 2
}
