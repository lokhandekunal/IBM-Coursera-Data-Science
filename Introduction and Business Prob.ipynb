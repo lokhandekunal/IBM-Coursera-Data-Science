{
 "cells": [
  {
   "cell_type": "markdown",
   "metadata": {},
   "source": [
    "# The Battle of the Neighborhoods - Week 1\n",
    "### Introduction & Business Problem :"
   ]
  },
  {
   "cell_type": "markdown",
   "metadata": {},
   "source": [
    "### Background\n",
    "\n",
    "New York City (NYC) is considered as one of the most populous city in the United\n",
    "Stated. The City comprises of five Boroughs with an estimate population of 8\n",
    "million people distributed over the areas. New York is known as the City that is\n",
    "populated by people of various ethnic groups. One of them is Thai. Thai food is\n",
    "one of the cultural heritages that spread across the Globe. With the density of\n",
    "population and high level of business activities in New York, NYC is one of the\n",
    "cities that have high potential for a Thai food restaurant. "
   ]
  },
  {
   "cell_type": "markdown",
   "metadata": {},
   "source": [
    "### Problem description\n",
    "\n",
    "Although New York seems to be a great destination for open a new Thai food\n",
    "restaurant(High density of population, High average income, and high level of\n",
    "business activities in any field), but the competition is also high that any\n",
    "entrepreneur need to plan thoroughly before investing. Thus, some decision\n",
    "making tools are needed."
   ]
  },
  {
   "cell_type": "code",
   "execution_count": null,
   "metadata": {},
   "outputs": [],
   "source": []
  }
 ],
 "metadata": {
  "kernelspec": {
   "display_name": "Python 3",
   "language": "python",
   "name": "python3"
  },
  "language_info": {
   "codemirror_mode": {
    "name": "ipython",
    "version": 3
   },
   "file_extension": ".py",
   "mimetype": "text/x-python",
   "name": "python",
   "nbconvert_exporter": "python",
   "pygments_lexer": "ipython3",
   "version": "3.6.8"
  }
 },
 "nbformat": 4,
 "nbformat_minor": 2
}
